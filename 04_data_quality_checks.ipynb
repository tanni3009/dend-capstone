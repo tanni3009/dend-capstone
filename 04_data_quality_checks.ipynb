{
 "cells": [
  {
   "cell_type": "code",
   "execution_count": 1,
   "metadata": {},
   "outputs": [],
   "source": [
    "import os\n",
    "import glob\n",
    "import pandas as pd\n",
    "from sqlalchemy import create_engine"
   ]
  },
  {
   "cell_type": "code",
   "execution_count": 2,
   "metadata": {},
   "outputs": [],
   "source": [
    "def check_fact_student_mobilty_count():\n",
    "    \"\"\" Checks row count of fact table\n",
    "        \n",
    "    Checks if fact table has same number of rows\n",
    "    as CSV input files.\n",
    "    \"\"\"\n",
    "    # get row count from CSV files\n",
    "    csv_count = 0\n",
    "    for root, dirs, files in os.walk('cleaned_data/students_2008_2012'):\n",
    "        files = glob.glob(os.path.join(root, '*.csv'))\n",
    "        for f in files:\n",
    "            csv_count += pd.read_csv(f, sep=';').shape[0]\n",
    "    # get row count from fact table\n",
    "    engine = create_engine('postgresql://tag:@localhost:5432/studentdb')\n",
    "    row_count = pd.read_sql_query(\"SELECT COUNT(*) AS row_cnt FROM fact_student_mobility;\", engine).row_cnt[0]\n",
    "    # compare\n",
    "    if csv_count != row_count:\n",
    "        raise ValueError(\"Data quality check failed. Fact table contains less rows ({}) than input files ({})\".format(\n",
    "            row_count, csv_count\n",
    "        ))\n",
    "    else:\n",
    "        print(\"Data quality check passed. Fact table and input file contain same number of rows: {}\".format(row_count))"
   ]
  },
  {
   "cell_type": "code",
   "execution_count": 3,
   "metadata": {},
   "outputs": [],
   "source": [
    "def check_host_institution_integrity():\n",
    "    \"\"\" Checks quality of host institution codes\n",
    "    \n",
    "    Checks how many host institution codes are used in \n",
    "    the fact table but not available in the institution\n",
    "    dimension table.\n",
    "    \"\"\"\n",
    "    # get row count from query\n",
    "    sql_stmt = \"\"\"\n",
    "    SELECT COUNT(DISTINCT fsm.home_institution_code) AS row_cnt\n",
    "    FROM fact_student_mobility AS fsm\n",
    "    LEFT JOIN dim_institution AS di_home\n",
    "        ON fsm.home_institution_code = di_home.institution_code\n",
    "    WHERE di_home IS NULL\n",
    "    ORDER BY 1\n",
    "    \"\"\"\n",
    "    engine = create_engine('postgresql://tag:@localhost:5432/studentdb')\n",
    "    row_count = pd.read_sql_query(sql_stmt, engine).row_cnt[0]\n",
    "    # compare\n",
    "    if row_count != 0:\n",
    "        raise ValueError(\"Data quality check failed. Fact table contains institution codes ({}) not available in dimension table\".format(\n",
    "            row_count\n",
    "        ))\n",
    "    else:\n",
    "        print(\"Data quality check passed. All home institution codes are available in dimension table\")"
   ]
  },
  {
   "cell_type": "code",
   "execution_count": 4,
   "metadata": {},
   "outputs": [
    {
     "name": "stdout",
     "output_type": "stream",
     "text": [
      "Data quality check passed. Fact table and input file contain same number of rows: 1163508\n"
     ]
    },
    {
     "ename": "ValueError",
     "evalue": "Data quality check failed. Fact table contains institution codes (181) not available in dimension table",
     "output_type": "error",
     "traceback": [
      "\u001b[0;31m---------------------------------------------------------------------------\u001b[0m",
      "\u001b[0;31mValueError\u001b[0m                                Traceback (most recent call last)",
      "\u001b[0;32m<ipython-input-4-b321d5408831>\u001b[0m in \u001b[0;36m<module>\u001b[0;34m\u001b[0m\n\u001b[1;32m      1\u001b[0m \u001b[0;31m# run data quality checks\u001b[0m\u001b[0;34m\u001b[0m\u001b[0;34m\u001b[0m\u001b[0;34m\u001b[0m\u001b[0m\n\u001b[1;32m      2\u001b[0m \u001b[0mcheck_fact_student_mobilty_count\u001b[0m\u001b[0;34m(\u001b[0m\u001b[0;34m)\u001b[0m\u001b[0;34m\u001b[0m\u001b[0;34m\u001b[0m\u001b[0m\n\u001b[0;32m----> 3\u001b[0;31m \u001b[0mcheck_host_institution_integrity\u001b[0m\u001b[0;34m(\u001b[0m\u001b[0;34m)\u001b[0m\u001b[0;34m\u001b[0m\u001b[0;34m\u001b[0m\u001b[0m\n\u001b[0m",
      "\u001b[0;32m<ipython-input-3-400308b4f434>\u001b[0m in \u001b[0;36mcheck_host_institution_integrity\u001b[0;34m()\u001b[0m\n\u001b[1;32m     20\u001b[0m     \u001b[0;32mif\u001b[0m \u001b[0mrow_count\u001b[0m \u001b[0;34m!=\u001b[0m \u001b[0;36m0\u001b[0m\u001b[0;34m:\u001b[0m\u001b[0;34m\u001b[0m\u001b[0;34m\u001b[0m\u001b[0m\n\u001b[1;32m     21\u001b[0m         raise ValueError(\"Data quality check failed. Fact table contains institution codes ({}) not available in dimension table\".format(\n\u001b[0;32m---> 22\u001b[0;31m             \u001b[0mrow_count\u001b[0m\u001b[0;34m\u001b[0m\u001b[0;34m\u001b[0m\u001b[0m\n\u001b[0m\u001b[1;32m     23\u001b[0m         ))\n\u001b[1;32m     24\u001b[0m     \u001b[0;32melse\u001b[0m\u001b[0;34m:\u001b[0m\u001b[0;34m\u001b[0m\u001b[0;34m\u001b[0m\u001b[0m\n",
      "\u001b[0;31mValueError\u001b[0m: Data quality check failed. Fact table contains institution codes (181) not available in dimension table"
     ]
    }
   ],
   "source": [
    "# run data quality checks\n",
    "check_fact_student_mobilty_count()\n",
    "check_host_institution_integrity()"
   ]
  }
 ],
 "metadata": {
  "kernelspec": {
   "display_name": "Python 3",
   "language": "python",
   "name": "python3"
  },
  "language_info": {
   "codemirror_mode": {
    "name": "ipython",
    "version": 3
   },
   "file_extension": ".py",
   "mimetype": "text/x-python",
   "name": "python",
   "nbconvert_exporter": "python",
   "pygments_lexer": "ipython3",
   "version": "3.7.3"
  }
 },
 "nbformat": 4,
 "nbformat_minor": 2
}
